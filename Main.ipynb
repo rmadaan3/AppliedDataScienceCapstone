#This file will be used for the Applied Data Science Capstone Project of the IBM Data Science Professional Certificate

import pandas as pd
import numpy as np

print("Hello Capstone Project Course!")
